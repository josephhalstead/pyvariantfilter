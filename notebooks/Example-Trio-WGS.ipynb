{
 "cells": [
  {
   "cell_type": "markdown",
   "metadata": {},
   "source": [
    "# Whole Genome Trio Analysis Example\n",
    "\n",
    "An example of using pyvariantfilter to find candidate variants in a WGS trio."
   ]
  },
  {
   "cell_type": "code",
   "execution_count": 1,
   "metadata": {},
   "outputs": [],
   "source": [
    "from pyvariantfilter.family import Family\n",
    "from pyvariantfilter.family_member import FamilyMember\n",
    "from pyvariantfilter.variant_set import VariantSet\n",
    "from pyvariantfilter.wrappers import run_phen2gene"
   ]
  },
  {
   "cell_type": "markdown",
   "metadata": {},
   "source": [
    "## Create A Family\n",
    "\n",
    "The first step in an analyis is to create a Family object which describes the relationships between your samples. In this case the proband is female and affected whilst both parents are unaffected."
   ]
  },
  {
   "cell_type": "code",
   "execution_count": 2,
   "metadata": {},
   "outputs": [],
   "source": [
    "# Create family members - arguments are (id, family_id, sex(1=male, 2=female) and affected status)\n",
    "mum = FamilyMember('mum', 'FAM001', 2, False)\n",
    "dad = FamilyMember('dad', 'FAM001', 1, False)\n",
    "proband = FamilyMember('proband', 'FAM001', 2, True, mum=mum, dad=dad)\n",
    "\n",
    "my_family = Family('FAM001')\n",
    "\n",
    "my_family.add_family_member(mum)\n",
    "my_family.add_family_member(dad)\n",
    "my_family.add_family_member(proband)\n",
    "\n",
    "# Set the proband - we need to do this in order to know which sample to look in for de novos etc\n",
    "my_family.set_proband(proband.get_id())"
   ]
  },
  {
   "cell_type": "markdown",
   "metadata": {},
   "source": [
    "## Load Variants From VCF"
   ]
  },
  {
   "cell_type": "code",
   "execution_count": 3,
   "metadata": {},
   "outputs": [],
   "source": [
    "# Create a new VariantSet object\n",
    "my_variant_set = VariantSet()\n",
    "\n",
    "# Associate the my_family object with my_variant_set\n",
    "my_variant_set.add_family(my_family)"
   ]
  },
  {
   "cell_type": "markdown",
   "metadata": {},
   "source": [
    "### Create an Initial Filtering Function\n",
    "\n",
    "For whole genome analysis we may not be able to load all the variants into memory so we define an initial filtering function so that only certain variants are loaded into the variant set. This function must take a Variant object as the first argument and must return either True or False."
   ]
  },
  {
   "cell_type": "code",
   "execution_count": 4,
   "metadata": {},
   "outputs": [],
   "source": [
    "def passes_initial_filter(variant, proband_id):\n",
    "    \"\"\"\n",
    "    Filter variants from the VCF.\n",
    "    \n",
    "    We import if the variant passes quality filtering and is below 1% in gnomad exomes and gnomad genomes AND\n",
    "    \n",
    "    a) Has a predicted affect on splicing of > 80% OR\n",
    "    b) Is listed as pathogenic in clinvar OR\n",
    "    c) Has a a relevant consequence\n",
    "    \n",
    "    \"\"\"\n",
    "    # If the proband has the variant and we pass the genotype and variant level filters\n",
    "    if variant.has_alt(proband_id) and variant.passes_gt_filter(proband_id, min_gq=20) and variant.passes_filter():\n",
    "        \n",
    "        \n",
    "        # The filter_on_numerical_transcript_annotation_lte() function allows us to filter on numerical values \n",
    "        # we can set different cutoffs for different variant types. For example ad_het is variants in which the \n",
    "        # proband is heterozygous on an autosome. In this case we get two boolean values describing whether the \n",
    "        # variant is below 1% in the gnomad genomes and gnomad exomes datasets.\n",
    "        freq_filterg = variant.filter_on_numerical_transcript_annotation_lte(annotation_key='gnomADg_AF_POPMAX',\n",
    "                                                                                          ad_het=0.01,\n",
    "                                                                                          ad_hom_alt=0.01,\n",
    "                                                                                          x_male =0.01,\n",
    "                                                                                          x_female_het=0.01,\n",
    "                                                                                          x_female_hom=0.01,\n",
    "                                                                                          compound_het=0.01,\n",
    "                                                                                          y=0.01,\n",
    "                                                                                          mt=0.01,\n",
    "                                                                                          )\n",
    "        freq_filtere = variant.filter_on_numerical_transcript_annotation_lte(annotation_key='gnomADe_AF_POPMAX',\n",
    "                                                                                          ad_het=0.01,\n",
    "                                                                                          ad_hom_alt=0.01,\n",
    "                                                                                          x_male =0.01,\n",
    "                                                                                          x_female_het=0.01,\n",
    "                                                                                          x_female_hom=0.01,\n",
    "                                                                                          compound_het=0.01,\n",
    "                                                                                          y=0.01,\n",
    "                                                                                          mt=0.01,\n",
    "                                                                                          )  \n",
    "        \n",
    "        \n",
    "        # Get some annotations from SpliceAI - use agg_func = max in case different transcripts have \n",
    "        # different values.\n",
    "        SpliceAI_DS_AG = variant.get_numerical_transcript_annotation('SpliceAI_DS_AG', agg_func='max')\n",
    "        SpliceAI_DS_AL = variant.get_numerical_transcript_annotation('SpliceAI_DS_AL', agg_func='max')\n",
    "        SpliceAI_DS_DG = variant.get_numerical_transcript_annotation('SpliceAI_DS_DG', agg_func='max')\n",
    "        SpliceAI_DS_DL =  variant.get_numerical_transcript_annotation('SpliceAI_DS_DL', agg_func='max')\n",
    "        \n",
    "        max_splice = max(SpliceAI_DS_AG, SpliceAI_DS_AL, SpliceAI_DS_DG, SpliceAI_DS_DL )\n",
    "        \n",
    "        # If the variant is below 1% and the we have more than 80% chance of affect on splicing then import\n",
    "        if freq_filterg and freq_filtere and max_splice >0.8:\n",
    "                        \n",
    "            return True\n",
    "        \n",
    "        # Coopt the get_genes() function to get the clinvar annotation VEP field.\n",
    "        clinvar = variant.get_genes(feature_key='CLIN_SIG')\n",
    "        is_path_in_clinvar = False\n",
    "        \n",
    "        for anno in clinvar:\n",
    "            \n",
    "            if 'pathogenic' in anno.lower():\n",
    "                is_path_in_clinvar = True\n",
    "                break\n",
    "                \n",
    "        # If the variant is below 1% and pathogenic in clinvar then import\n",
    "        if freq_filterg and freq_filtere and is_path_in_clinvar:\n",
    "            \n",
    "            return True\n",
    "        \n",
    "        csq_filter = False\n",
    "        \n",
    "        if variant.get_worst_consequence() in {'transcript_ablation': None,\n",
    "                                               'splice_acceptor_variant': None,\n",
    "                                               'splice_donor_variant': None,\n",
    "                                               'stop_gained': None,\n",
    "                                               'frameshift_variant': None,\n",
    "                                               'stop_lost': None,\n",
    "                                               'start_lost': None,\n",
    "                                               'transcript_amplification': None,\n",
    "                                               'inframe_insertion': None,\n",
    "                                               'inframe_deletion': None,\n",
    "                                               'missense_variant': None,\n",
    "                                               'protein_altering_variant': None,\n",
    "                                               'incomplete_terminal_codon_variant': None,\n",
    "                                               'start_retained_variant': None,\n",
    "                                               'stop_retained_variant': None}:\n",
    "        \n",
    "            csq_filter = True\n",
    "        \n",
    "       # If the variant is below 1% and has a relevant consequence then import\n",
    "        if csq_filter and freq_filterg and freq_filtere:\n",
    "            \n",
    "            return True\n",
    "        \n",
    "    return False"
   ]
  },
  {
   "cell_type": "code",
   "execution_count": 5,
   "metadata": {},
   "outputs": [],
   "source": [
    "# Import variants from a Platypus VCF - and apply our filtering function. Note that arguments to the \n",
    "# filtering function can be passed using the args argument which should be a tuple. The first variant argument to \n",
    "# passes_initial_filter does not need to be added to the args argument.\n",
    "\n",
    "my_variant_set.read_variants_from_platypus_vcf('test_data/123000015_merged_vep.fixed.vcf.gz',\n",
    "                                               proband_variants_only=True,\n",
    "                                               filter_func=passes_initial_filter,\n",
    "                                               args=(proband.get_id(),))"
   ]
  },
  {
   "cell_type": "code",
   "execution_count": 6,
   "metadata": {},
   "outputs": [
    {
     "name": "stdout",
     "output_type": "stream",
     "text": [
      "629 variants have been loaded into the variant set.\n"
     ]
    }
   ],
   "source": [
    "print (f'{len(my_variant_set.variant_dict)} variants have been loaded into the variant set.')"
   ]
  },
  {
   "cell_type": "markdown",
   "metadata": {},
   "source": [
    "## Get Compound Hets\n",
    "\n",
    "Now we have a VariantSet object loaded with variants we can find compound hets. There are different methods for this depending on whether the proband has both parents or not. Since in this case we do - we can phase the compound hets so we only report compound het pairs where each variant within the pair has been inherited from a different parent."
   ]
  },
  {
   "cell_type": "code",
   "execution_count": 7,
   "metadata": {},
   "outputs": [],
   "source": [
    "# Create an attribute my_variant_set.candidate_compound_het_dict where each transcript is a key the variants \n",
    "# within that transcript are the values\n",
    "my_variant_set.get_candidate_compound_hets()\n",
    "\n",
    "# As we have both parents we can filter the compound hets.\n",
    "my_variant_set.filter_compound_hets()\n",
    "\n",
    "# Flatten the filtered compound hets (my_variant_set.filtered_compound_het_dict) into a a dictionary with each \n",
    "# genuine compound het as a key.\n",
    "my_variant_set.get_filtered_compound_hets_as_dict()"
   ]
  },
  {
   "cell_type": "code",
   "execution_count": 8,
   "metadata": {},
   "outputs": [
    {
     "name": "stdout",
     "output_type": "stream",
     "text": [
      "The first variant in the final compound het dict is: 2:151533488C>T\n"
     ]
    }
   ],
   "source": [
    "print (f'The first variant in the final compound het dict is: {list(my_variant_set.final_compound_hets.keys())[0]}')"
   ]
  },
  {
   "cell_type": "markdown",
   "metadata": {},
   "source": [
    "## Apply Inheritance Filter\n",
    "\n",
    "We want to find variants which match the de novo, autosomal reccessive, compound_het and X linked reccessive models. Each variant in the variant set has methods available to find these as shown below."
   ]
  },
  {
   "cell_type": "code",
   "execution_count": 9,
   "metadata": {},
   "outputs": [],
   "source": [
    "def passes_final_filter(variant, compound_het_dict):\n",
    "    \n",
    "    # Get variants which match certain inheritance models\n",
    "    if variant.matches_inheritance_model(['autosomal_dominant',\n",
    "                                          'autosomal_reccessive',\n",
    "                                          'x_reccessive',\n",
    "                                          'x_dominant',\n",
    "                                          'de_novo',\n",
    "                                          'compound_het'], compound_het_dict):\n",
    "        \n",
    "        return True\n",
    "        \n",
    "    return False"
   ]
  },
  {
   "cell_type": "code",
   "execution_count": 10,
   "metadata": {},
   "outputs": [],
   "source": [
    "# Apply a the passes_final_filter() function\n",
    "\n",
    "my_variant_set.filter_variants(passes_final_filter, args=(my_variant_set.final_compound_hets,))"
   ]
  },
  {
   "cell_type": "code",
   "execution_count": 11,
   "metadata": {},
   "outputs": [],
   "source": [
    "# Convert to dataframe - VEP fields get 'csq_' as a prefix. Each transcript that a variant is in gets its own row.\n",
    "\n",
    "df = my_variant_set.to_df()"
   ]
  },
  {
   "cell_type": "code",
   "execution_count": 13,
   "metadata": {},
   "outputs": [
    {
     "name": "stdout",
     "output_type": "stream",
     "text": [
      "27 variants left after filtering.\n"
     ]
    }
   ],
   "source": [
    "print (f'{len(my_variant_set.variant_dict)} variants left after filtering.')"
   ]
  },
  {
   "cell_type": "markdown",
   "metadata": {},
   "source": [
    "## Prioritise Genes\n",
    "\n",
    "The package contains wrappers for the Phenolyzer and Phen2Gene programs. These will have to be installed separately.\n",
    "\n",
    "These allow the Prioritisation of genes within the candidates we have found."
   ]
  },
  {
   "cell_type": "code",
   "execution_count": 14,
   "metadata": {},
   "outputs": [],
   "source": [
    "phen2gene_dir = '/home/joseph/Documents/apps/Phen2Gene/'\n",
    "temp_dir= '/home/joseph/Documents/pyvariantfilter/temp'\n",
    "job_name = 'FAM001'\n",
    "hpo_terms = ['HP:0002342', 'HP:0002194',\n",
    "             'HP:0000750', 'HP:0004422',\n",
    "             'HP:0000414', 'HP:0000490',\n",
    "             'HP:0007930', 'HP:0010862',\n",
    "             'HP:0011343']"
   ]
  },
  {
   "cell_type": "code",
   "execution_count": 15,
   "metadata": {},
   "outputs": [],
   "source": [
    "gene_scores = run_phen2gene(phen2gene_dir=phen2gene_dir,\n",
    "                            temp_dir=temp_dir,\n",
    "                            job_name=job_name,\n",
    "                            hpo_terms=hpo_terms)"
   ]
  },
  {
   "cell_type": "code",
   "execution_count": 16,
   "metadata": {},
   "outputs": [],
   "source": [
    "def apply_score_to_df(df, gene_scores):\n",
    "    \n",
    "    gene = df['csq_SYMBOL']\n",
    "    score = 0\n",
    "    if gene in gene_scores:\n",
    "        \n",
    "        score = gene_scores[gene]\n",
    "    \n",
    "    return float(score)"
   ]
  },
  {
   "cell_type": "code",
   "execution_count": 17,
   "metadata": {},
   "outputs": [],
   "source": [
    "df['gene_score'] = df.apply(apply_score_to_df, axis=1, args=(gene_scores,))"
   ]
  },
  {
   "cell_type": "code",
   "execution_count": 20,
   "metadata": {},
   "outputs": [
    {
     "data": {
      "text/html": [
       "<div>\n",
       "<style scoped>\n",
       "    .dataframe tbody tr th:only-of-type {\n",
       "        vertical-align: middle;\n",
       "    }\n",
       "\n",
       "    .dataframe tbody tr th {\n",
       "        vertical-align: top;\n",
       "    }\n",
       "\n",
       "    .dataframe thead th {\n",
       "        text-align: right;\n",
       "    }\n",
       "</style>\n",
       "<table border=\"1\" class=\"dataframe\">\n",
       "  <thead>\n",
       "    <tr style=\"text-align: right;\">\n",
       "      <th></th>\n",
       "      <th>variant_id</th>\n",
       "      <th>csq_SYMBOL</th>\n",
       "      <th>worst_consequence</th>\n",
       "      <th>inheritance_models</th>\n",
       "      <th>csq_PICK</th>\n",
       "      <th>gene_score</th>\n",
       "    </tr>\n",
       "  </thead>\n",
       "  <tbody>\n",
       "    <tr>\n",
       "      <th>1</th>\n",
       "      <td>1:153816379AG&gt;A</td>\n",
       "      <td>GATAD2B</td>\n",
       "      <td>frameshift_variant</td>\n",
       "      <td>autosomal_dominant|de_novo</td>\n",
       "      <td>1</td>\n",
       "      <td>0.220934</td>\n",
       "    </tr>\n",
       "  </tbody>\n",
       "</table>\n",
       "</div>"
      ],
      "text/plain": [
       "        variant_id csq_SYMBOL   worst_consequence          inheritance_models  \\\n",
       "1  1:153816379AG>A    GATAD2B  frameshift_variant  autosomal_dominant|de_novo   \n",
       "\n",
       "  csq_PICK  gene_score  \n",
       "1        1    0.220934  "
      ]
     },
     "execution_count": 20,
     "metadata": {},
     "output_type": "execute_result"
    }
   ],
   "source": [
    "# View top variant\n",
    "df[['variant_id',\n",
    "    'csq_SYMBOL',\n",
    "    'worst_consequence',\n",
    "    'inheritance_models',\n",
    "    'csq_PICK',\n",
    "    'gene_score']][(df['csq_PICK']== '1')].sort_values('gene_score', ascending=False).head(1)"
   ]
  },
  {
   "cell_type": "code",
   "execution_count": null,
   "metadata": {},
   "outputs": [],
   "source": []
  },
  {
   "cell_type": "code",
   "execution_count": null,
   "metadata": {},
   "outputs": [],
   "source": []
  },
  {
   "cell_type": "code",
   "execution_count": null,
   "metadata": {},
   "outputs": [],
   "source": []
  }
 ],
 "metadata": {
  "kernelspec": {
   "display_name": "Python 3",
   "language": "python",
   "name": "python3"
  },
  "language_info": {
   "codemirror_mode": {
    "name": "ipython",
    "version": 3
   },
   "file_extension": ".py",
   "mimetype": "text/x-python",
   "name": "python",
   "nbconvert_exporter": "python",
   "pygments_lexer": "ipython3",
   "version": "3.7.3"
  }
 },
 "nbformat": 4,
 "nbformat_minor": 2
}
