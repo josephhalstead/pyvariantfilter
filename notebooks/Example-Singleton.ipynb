{
 "cells": [
  {
   "cell_type": "markdown",
   "metadata": {},
   "source": [
    "# Singleton Analysis Example\n",
    "\n",
    "An example of using pyvariantfilter to find candidate variants in a a singleton. Pretend NA12878 does not have parental samples.\n"
   ]
  },
  {
   "cell_type": "code",
   "execution_count": 1,
   "metadata": {},
   "outputs": [],
   "source": [
    "from pyvariantfilter.family import Family\n",
    "from pyvariantfilter.family_member import FamilyMember\n",
    "from pyvariantfilter.variant_set import VariantSet"
   ]
  },
  {
   "cell_type": "markdown",
   "metadata": {},
   "source": [
    "## Create A Family\n",
    "\n",
    "The first step in an analyis is to create a Family object which describes the relationships between your samples. In this case the proband is female and affected."
   ]
  },
  {
   "cell_type": "code",
   "execution_count": 2,
   "metadata": {},
   "outputs": [],
   "source": [
    "# Create family members - only a single family member for this one. \n",
    "proband = FamilyMember('NA12878i', 'FAM001', 2, True)\n",
    "\n",
    "my_family = Family('FAM001')\n",
    "\n",
    "my_family.add_family_member(proband)\n",
    "\n",
    "my_family.set_proband(proband.get_id())"
   ]
  },
  {
   "cell_type": "code",
   "execution_count": 3,
   "metadata": {},
   "outputs": [],
   "source": [
    "# Create a new VariantSet object\n",
    "my_variant_set = VariantSet()\n",
    "\n",
    "# Associate the my_family object with my_variant_set\n",
    "my_variant_set.add_family(my_family)"
   ]
  },
  {
   "cell_type": "code",
   "execution_count": 4,
   "metadata": {},
   "outputs": [],
   "source": [
    "def passes_initial_filter(variant, proband_id):\n",
    "    \"\"\"\n",
    "    Filter variants from the VCF.\n",
    "    \n",
    "    We import if the variant passes quality filtering and is below 1% in gnomad AND\n",
    "    \n",
    "    a) Is listed as pathogenic in clinvar OR\n",
    "    b) Has a a relevant consequence\n",
    "    \n",
    "    \"\"\"\n",
    "    # If the proband has the variant and we pass the genotype and variant level filters\n",
    "    if variant.has_alt(proband_id) and variant.passes_gt_filter(proband_id, min_gq=20) and variant.passes_filter():\n",
    "        \n",
    "        \n",
    "        # The filter_on_numerical_transcript_annotation_lte() function allows us to filter on numerical values \n",
    "        # we can set different cutoffs for different variant types. For example ad_het is variants in which the \n",
    "        # proband is heterozygous on an autosome. In this case we get two boolean values describing whether the \n",
    "        # variant is below 1% in the gnomad.\n",
    "\n",
    "        freq_filter = variant.filter_on_numerical_transcript_annotation_lte(annotation_key='gnomAD_AF',\n",
    "                                                                                          ad_het=0.01,\n",
    "                                                                                          ad_hom_alt=0.01,\n",
    "                                                                                          x_male =0.01,\n",
    "                                                                                          x_female_het=0.01,\n",
    "                                                                                          x_female_hom=0.01,\n",
    "                                                                                          compound_het=0.01,\n",
    "                                                                                          y=0.01,\n",
    "                                                                                          mt=0.01,\n",
    "                                                                                          )  \n",
    "        \n",
    "        \n",
    "\n",
    "     \n",
    "        # Coopt the get_genes() function to get the clinvar annotation VEP field.\n",
    "        clinvar = variant.get_genes(feature_key='CLIN_SIG')\n",
    "        is_path_in_clinvar = False\n",
    "        \n",
    "        for anno in clinvar:\n",
    "            \n",
    "            if 'pathogenic' in anno.lower():\n",
    "                is_path_in_clinvar = True\n",
    "                break\n",
    "                \n",
    "        # If the variant is below 1% and pathogenic in clinvar then import\n",
    "        if freq_filter and is_path_in_clinvar:\n",
    "            \n",
    "            return True\n",
    "        \n",
    "        csq_filter = False\n",
    "        \n",
    "        if variant.get_worst_consequence() in {'transcript_ablation': None,\n",
    "                                               'splice_acceptor_variant': None,\n",
    "                                               'splice_donor_variant': None,\n",
    "                                               'stop_gained': None,\n",
    "                                               'frameshift_variant': None,\n",
    "                                               'stop_lost': None,\n",
    "                                               'start_lost': None,\n",
    "                                               'transcript_amplification': None,\n",
    "                                               'inframe_insertion': None,\n",
    "                                               'inframe_deletion': None,\n",
    "                                               'missense_variant': None,\n",
    "                                               'protein_altering_variant': None,\n",
    "                                               'splice_region_variant': None,\n",
    "                                               'incomplete_terminal_codon_variant': None,\n",
    "                                               'start_retained_variant': None,\n",
    "                                               'stop_retained_variant': None}:\n",
    "        \n",
    "            csq_filter = True\n",
    "        \n",
    "       # If the variant is below 1% and has a relevant consequence then import\n",
    "        if csq_filter and freq_filter:\n",
    "            \n",
    "            return True\n",
    "        \n",
    "    return False"
   ]
  },
  {
   "cell_type": "code",
   "execution_count": 5,
   "metadata": {},
   "outputs": [],
   "source": [
    "my_variant_set.read_variants_from_vcf('test_data/NA12878.trio.vep.vcf.gz',\n",
    "                                               proband_variants_only=True,\n",
    "                                               filter_func=passes_initial_filter,\n",
    "                                               args=(proband.get_id(),))"
   ]
  },
  {
   "cell_type": "code",
   "execution_count": 6,
   "metadata": {},
   "outputs": [
    {
     "name": "stdout",
     "output_type": "stream",
     "text": [
      "726 variants have been loaded into the variant set.\n"
     ]
    }
   ],
   "source": [
    "print (f'{len(my_variant_set.variant_dict)} variants have been loaded into the variant set.')"
   ]
  },
  {
   "cell_type": "markdown",
   "metadata": {},
   "source": [
    "## Get Compound Hets\n",
    "\n",
    "Now we have a VariantSet object loaded with variants we can find compound hets. There are different methods for this depending on whether the proband has both parents or not. Since in this case we do not - we only look at variants where the proband has two or more heterozygous variants in a transcript."
   ]
  },
  {
   "cell_type": "code",
   "execution_count": 7,
   "metadata": {},
   "outputs": [],
   "source": [
    "# Create an attribute my_variant_set.candidate_compound_het_dict where each transcript is a key the variants \n",
    "# within that transcript are the values\n",
    "my_variant_set.get_candidate_compound_hets()\n",
    "\n",
    "# As we are pretending we do not have any parents we cannot phase the compound hets\n",
    "my_variant_set.get_unfiltered_compound_hets_as_dict()"
   ]
  },
  {
   "cell_type": "markdown",
   "metadata": {},
   "source": [
    "## Apply Inheritance Filter\n",
    "\n",
    "We want to find variants which match certain inheritiance patterns. In this case:\n",
    "\n",
    "autosomal_dominant, autosomal_reccessive, x_reccessive, x_dominant, de_novo, compound_het, y, mt"
   ]
  },
  {
   "cell_type": "code",
   "execution_count": 8,
   "metadata": {},
   "outputs": [],
   "source": [
    "def passes_final_filter(variant, compound_het_dict):\n",
    "    \n",
    "    freq_filter = variant.filter_on_numerical_transcript_annotation_lte(annotation_key='gnomAD_AF',\n",
    "                                                                                          ad_het=0.001,\n",
    "                                                                                          ad_hom_alt=0.01,\n",
    "                                                                                          x_male =0.01,\n",
    "                                                                                          x_female_het=0.01,\n",
    "                                                                                          x_female_hom=0.01,\n",
    "                                                                                          compound_het=0.01,\n",
    "                                                                                          y=0.01,\n",
    "                                                                                          mt=0.01,\n",
    "                                                                                          compound_het_dict=compound_het_dict\n",
    "                                                                                          )  \n",
    "    \n",
    "    # Get variants which match certain inheritance models\n",
    "    if freq_filter and variant.matches_inheritance_model(['autosomal_dominant',\n",
    "                                                          'autosomal_reccessive',\n",
    "                                                          'x_reccessive',\n",
    "                                                          'x_dominant',\n",
    "                                                          'de_novo',\n",
    "                                                          'compound_het',\n",
    "                                                          'y',\n",
    "                                                          'mt'], compound_het_dict):\n",
    "        \n",
    "            return True\n",
    "        \n",
    "    return False"
   ]
  },
  {
   "cell_type": "code",
   "execution_count": 9,
   "metadata": {},
   "outputs": [],
   "source": [
    "# Apply a the passes_final_filter() function\n",
    "\n",
    "my_variant_set.filter_variants(passes_final_filter, args=(my_variant_set.final_compound_hets,))"
   ]
  },
  {
   "cell_type": "code",
   "execution_count": 10,
   "metadata": {},
   "outputs": [
    {
     "name": "stdout",
     "output_type": "stream",
     "text": [
      "495 variants left after filtering.\n"
     ]
    }
   ],
   "source": [
    "print (f'{len(my_variant_set.variant_dict)} variants left after filtering.')"
   ]
  },
  {
   "cell_type": "code",
   "execution_count": 11,
   "metadata": {},
   "outputs": [],
   "source": [
    "# Convert to dataframe - VEP fields get 'csq_' as a prefix. Each transcript that a variant is in gets its own row.\n",
    "\n",
    "df = my_variant_set.to_df()"
   ]
  },
  {
   "cell_type": "code",
   "execution_count": 12,
   "metadata": {},
   "outputs": [
    {
     "data": {
      "text/html": [
       "<div>\n",
       "<style scoped>\n",
       "    .dataframe tbody tr th:only-of-type {\n",
       "        vertical-align: middle;\n",
       "    }\n",
       "\n",
       "    .dataframe tbody tr th {\n",
       "        vertical-align: top;\n",
       "    }\n",
       "\n",
       "    .dataframe thead th {\n",
       "        text-align: right;\n",
       "    }\n",
       "</style>\n",
       "<table border=\"1\" class=\"dataframe\">\n",
       "  <thead>\n",
       "    <tr style=\"text-align: right;\">\n",
       "      <th></th>\n",
       "      <th>variant_id</th>\n",
       "      <th>csq_SYMBOL</th>\n",
       "      <th>csq_Feature</th>\n",
       "      <th>worst_consequence</th>\n",
       "      <th>inheritance_models</th>\n",
       "      <th>csq_gnomAD_AF</th>\n",
       "      <th>NA12878i_GT</th>\n",
       "    </tr>\n",
       "  </thead>\n",
       "  <tbody>\n",
       "    <tr>\n",
       "      <th>0</th>\n",
       "      <td>1:914414CGAA&gt;C</td>\n",
       "      <td>C1orf170</td>\n",
       "      <td>ENST00000341290</td>\n",
       "      <td>inframe_deletion</td>\n",
       "      <td>autosomal_dominant</td>\n",
       "      <td>0.000528</td>\n",
       "      <td>CGAA/C</td>\n",
       "    </tr>\n",
       "    <tr>\n",
       "      <th>1</th>\n",
       "      <td>1:914414CGAA&gt;C</td>\n",
       "      <td>PLEKHN1</td>\n",
       "      <td>ENST00000379407</td>\n",
       "      <td>inframe_deletion</td>\n",
       "      <td>autosomal_dominant</td>\n",
       "      <td>0.000528</td>\n",
       "      <td>CGAA/C</td>\n",
       "    </tr>\n",
       "    <tr>\n",
       "      <th>2</th>\n",
       "      <td>1:914414CGAA&gt;C</td>\n",
       "      <td>PLEKHN1</td>\n",
       "      <td>ENST00000379409</td>\n",
       "      <td>inframe_deletion</td>\n",
       "      <td>autosomal_dominant</td>\n",
       "      <td>0.000528</td>\n",
       "      <td>CGAA/C</td>\n",
       "    </tr>\n",
       "    <tr>\n",
       "      <th>3</th>\n",
       "      <td>1:914414CGAA&gt;C</td>\n",
       "      <td>PLEKHN1</td>\n",
       "      <td>ENST00000379410</td>\n",
       "      <td>inframe_deletion</td>\n",
       "      <td>autosomal_dominant</td>\n",
       "      <td>0.000528</td>\n",
       "      <td>CGAA/C</td>\n",
       "    </tr>\n",
       "    <tr>\n",
       "      <th>4</th>\n",
       "      <td>1:914414CGAA&gt;C</td>\n",
       "      <td>C1orf170</td>\n",
       "      <td>ENST00000433179</td>\n",
       "      <td>inframe_deletion</td>\n",
       "      <td>autosomal_dominant</td>\n",
       "      <td>0.000528</td>\n",
       "      <td>CGAA/C</td>\n",
       "    </tr>\n",
       "  </tbody>\n",
       "</table>\n",
       "</div>"
      ],
      "text/plain": [
       "       variant_id csq_SYMBOL      csq_Feature worst_consequence  \\\n",
       "0  1:914414CGAA>C   C1orf170  ENST00000341290  inframe_deletion   \n",
       "1  1:914414CGAA>C    PLEKHN1  ENST00000379407  inframe_deletion   \n",
       "2  1:914414CGAA>C    PLEKHN1  ENST00000379409  inframe_deletion   \n",
       "3  1:914414CGAA>C    PLEKHN1  ENST00000379410  inframe_deletion   \n",
       "4  1:914414CGAA>C   C1orf170  ENST00000433179  inframe_deletion   \n",
       "\n",
       "   inheritance_models csq_gnomAD_AF NA12878i_GT  \n",
       "0  autosomal_dominant      0.000528      CGAA/C  \n",
       "1  autosomal_dominant      0.000528      CGAA/C  \n",
       "2  autosomal_dominant      0.000528      CGAA/C  \n",
       "3  autosomal_dominant      0.000528      CGAA/C  \n",
       "4  autosomal_dominant      0.000528      CGAA/C  "
      ]
     },
     "execution_count": 12,
     "metadata": {},
     "output_type": "execute_result"
    }
   ],
   "source": [
    "df[['variant_id', 'csq_SYMBOL', 'csq_Feature', 'worst_consequence', 'inheritance_models','csq_gnomAD_AF', 'NA12878i_GT']].head()"
   ]
  },
  {
   "cell_type": "code",
   "execution_count": 13,
   "metadata": {},
   "outputs": [],
   "source": [
    "# How many variants of each type do we have?\n",
    "\n",
    "grouped = df.groupby([ 'inheritance_models','variant_id']).count().reset_index()"
   ]
  },
  {
   "cell_type": "code",
   "execution_count": 14,
   "metadata": {},
   "outputs": [],
   "source": [
    "grouped = grouped.groupby('inheritance_models').count()"
   ]
  },
  {
   "cell_type": "code",
   "execution_count": 15,
   "metadata": {},
   "outputs": [
    {
     "data": {
      "text/html": [
       "<div>\n",
       "<style scoped>\n",
       "    .dataframe tbody tr th:only-of-type {\n",
       "        vertical-align: middle;\n",
       "    }\n",
       "\n",
       "    .dataframe tbody tr th {\n",
       "        vertical-align: top;\n",
       "    }\n",
       "\n",
       "    .dataframe thead th {\n",
       "        text-align: right;\n",
       "    }\n",
       "</style>\n",
       "<table border=\"1\" class=\"dataframe\">\n",
       "  <thead>\n",
       "    <tr style=\"text-align: right;\">\n",
       "      <th></th>\n",
       "      <th>variant_id</th>\n",
       "    </tr>\n",
       "    <tr>\n",
       "      <th>inheritance_models</th>\n",
       "      <th></th>\n",
       "    </tr>\n",
       "  </thead>\n",
       "  <tbody>\n",
       "    <tr>\n",
       "      <th>autosomal_dominant</th>\n",
       "      <td>248</td>\n",
       "    </tr>\n",
       "    <tr>\n",
       "      <th>autosomal_dominant|compound_het</th>\n",
       "      <td>134</td>\n",
       "    </tr>\n",
       "    <tr>\n",
       "      <th>autosomal_reccessive</th>\n",
       "      <td>95</td>\n",
       "    </tr>\n",
       "    <tr>\n",
       "      <th>x_dominant</th>\n",
       "      <td>9</td>\n",
       "    </tr>\n",
       "    <tr>\n",
       "      <th>x_dominant|compound_het</th>\n",
       "      <td>5</td>\n",
       "    </tr>\n",
       "    <tr>\n",
       "      <th>x_reccessive</th>\n",
       "      <td>4</td>\n",
       "    </tr>\n",
       "  </tbody>\n",
       "</table>\n",
       "</div>"
      ],
      "text/plain": [
       "                                 variant_id\n",
       "inheritance_models                         \n",
       "autosomal_dominant                      248\n",
       "autosomal_dominant|compound_het         134\n",
       "autosomal_reccessive                     95\n",
       "x_dominant                                9\n",
       "x_dominant|compound_het                   5\n",
       "x_reccessive                              4"
      ]
     },
     "execution_count": 15,
     "metadata": {},
     "output_type": "execute_result"
    }
   ],
   "source": [
    "grouped[['variant_id']]"
   ]
  },
  {
   "cell_type": "code",
   "execution_count": null,
   "metadata": {},
   "outputs": [],
   "source": []
  }
 ],
 "metadata": {
  "kernelspec": {
   "display_name": "Python 3",
   "language": "python",
   "name": "python3"
  },
  "language_info": {
   "codemirror_mode": {
    "name": "ipython",
    "version": 3
   },
   "file_extension": ".py",
   "mimetype": "text/x-python",
   "name": "python",
   "nbconvert_exporter": "python",
   "pygments_lexer": "ipython3",
   "version": "3.6.8"
  }
 },
 "nbformat": 4,
 "nbformat_minor": 2
}
